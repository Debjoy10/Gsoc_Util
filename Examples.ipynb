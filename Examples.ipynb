{
 "cells": [
  {
   "cell_type": "markdown",
   "metadata": {},
   "source": [
    "### Numba-Dask Example"
   ]
  },
  {
   "cell_type": "markdown",
   "metadata": {},
   "source": [
    "Code to demostrate usage of Numba and Dask funtions and how using both doesn't guarantee better performance. \n",
    "Inspired from - https://medium.com/capital-one-tech/dask-numba-for-efficient-in-memory-model-scoring-dfc9b68ba6ce"
   ]
  },
  {
   "cell_type": "code",
   "execution_count": 31,
   "metadata": {},
   "outputs": [],
   "source": [
    "# Sample Function involving array computation\n",
    "def predict_over_time(x, y, z, overlay=False):\n",
    "    \"Predicts a quantity at times = 0, 1, ... 14\"\n",
    "    out = np.zeros((x.shape[0], 15))\n",
    "    for t in range(15):\n",
    "        out[:, t] = t * x ** 2 + y - 2 * z - 2 * t\n",
    "    adj = 1.5 if overlay else 1.0\n",
    "    return adj * out"
   ]
  },
  {
   "cell_type": "code",
   "execution_count": 33,
   "metadata": {},
   "outputs": [],
   "source": [
    "# Basic Numba decorator - Jit\n",
    "from numba import jit\n",
    "import numpy as np\n",
    "\n",
    "# Slightly optimised due to lazy execution of jit\n",
    "@jit\n",
    "def jitted_func(x, y, z, overlay=False):\n",
    "    \"Predicts a quantity at times = 0, 1, ... 14\"\n",
    "    out = np.zeros((x.shape[0], 15))\n",
    "    for t in range(15):\n",
    "        out[:, t] = t * x ** 2 + y - 2 * z - 2 * t\n",
    "    adj = 1.5 if overlay else 1.0\n",
    "    return adj * out"
   ]
  },
  {
   "cell_type": "code",
   "execution_count": 34,
   "metadata": {},
   "outputs": [
    {
     "name": "stdout",
     "output_type": "stream",
     "text": [
      "8.39 ms ± 486 µs per loop (mean ± std. dev. of 7 runs, 100 loops each)\n"
     ]
    }
   ],
   "source": [
    "# Create some artificial inputs\n",
    "n = 25000\n",
    "u = np.random.random(n)\n",
    "x = np.random.poisson(lam=5, size=n)\n",
    "y, z = np.random.normal(size=(n, 2)).T\n",
    "\n",
    "# Actual function\n",
    "%timeit predict_over_time(x, y, z)"
   ]
  },
  {
   "cell_type": "code",
   "execution_count": 35,
   "metadata": {
    "scrolled": true
   },
   "outputs": [
    {
     "name": "stdout",
     "output_type": "stream",
     "text": [
      "5.97 ms ± 287 µs per loop (mean ± std. dev. of 7 runs, 1 loop each)\n"
     ]
    }
   ],
   "source": [
    "# Optimised function\n",
    "%timeit jitted_func(x, y, z)"
   ]
  },
  {
   "cell_type": "markdown",
   "metadata": {},
   "source": [
    "* @jit reduces time required each function call by a factor of about 1.4"
   ]
  },
  {
   "cell_type": "code",
   "execution_count": 18,
   "metadata": {},
   "outputs": [],
   "source": [
    "# Eagerly compiled numba decorator @guvectorize\n",
    "from numba import guvectorize\n",
    "\n",
    "# Similar function\n",
    "@guvectorize('i8, f8, f8, b1, f8[:], f8[:]',\n",
    "             '(), (), (), (), (s) -> (s)')\n",
    "def fast_predict_over_time(x, y, z, overlay, _, out):\n",
    "    adj = 1.5 if overlay else 1.0\n",
    "    for t in range(len(out)):\n",
    "        out[t] = adj * (t * x ** 2 + y - 2 * z - 2 * t)"
   ]
  },
  {
   "cell_type": "code",
   "execution_count": 37,
   "metadata": {
    "scrolled": false
   },
   "outputs": [
    {
     "name": "stdout",
     "output_type": "stream",
     "text": [
      "36.6 µs ± 424 ns per loop (mean ± std. dev. of 7 runs, 10000 loops each)\n"
     ]
    }
   ],
   "source": [
    "res = np.zeros((n, 15))\n",
    "%timeit fast_predict_over_time(x, y, z, False, res)"
   ]
  },
  {
   "cell_type": "markdown",
   "metadata": {},
   "source": [
    "* @guvectorize execution time reduced over 20 times"
   ]
  },
  {
   "cell_type": "code",
   "execution_count": 38,
   "metadata": {},
   "outputs": [
    {
     "name": "stdout",
     "output_type": "stream",
     "text": [
      "1.29 ms ± 31.6 µs per loop (mean ± std. dev. of 7 runs, 1000 loops each)\n"
     ]
    }
   ],
   "source": [
    "# Using Dask for a change :)\n",
    "from dask import delayed\n",
    "\n",
    "\n",
    "# won't be evaluated until we call .compute()\n",
    "fast_predict_over_time = delayed(fast_predict_over_time)\n",
    "\n",
    "## using the same numpy arrays from above...\n",
    "\n",
    "%timeit fast_predict_over_time(x, y, z, False, res).compute()"
   ]
  },
  {
   "cell_type": "markdown",
   "metadata": {},
   "source": [
    "* Increases execution time, since not much scope for optimisation(@guvectorize is the best :) and inclusion of dask overhead."
   ]
  },
  {
   "cell_type": "code",
   "execution_count": 40,
   "metadata": {},
   "outputs": [
    {
     "name": "stdout",
     "output_type": "stream",
     "text": [
      "4.64 ms ± 172 µs per loop (mean ± std. dev. of 7 runs, 100 loops each)\n"
     ]
    }
   ],
   "source": [
    "# Maybe try improving @jit version of function\n",
    "# won't be evaluated until we call .compute()\n",
    "fast_jitted_func = delayed(jitted_func)\n",
    "\n",
    "## using the same numpy arrays from above...\n",
    "\n",
    "%timeit fast_jitted_func(x, y, z).compute()"
   ]
  },
  {
   "cell_type": "markdown",
   "metadata": {},
   "source": [
    "* Noticeable improvement over jitted function using Dask."
   ]
  },
  {
   "cell_type": "markdown",
   "metadata": {},
   "source": [
    "##### Thus, an important selection of Numba/Dask decorators is imperative to performance."
   ]
  },
  {
   "cell_type": "code",
   "execution_count": null,
   "metadata": {},
   "outputs": [],
   "source": []
  }
 ],
 "metadata": {
  "kernelspec": {
   "display_name": "Python 3",
   "language": "python",
   "name": "python3"
  },
  "language_info": {
   "codemirror_mode": {
    "name": "ipython",
    "version": 3
   },
   "file_extension": ".py",
   "mimetype": "text/x-python",
   "name": "python",
   "nbconvert_exporter": "python",
   "pygments_lexer": "ipython3",
   "version": "3.6.10"
  }
 },
 "nbformat": 4,
 "nbformat_minor": 4
}
